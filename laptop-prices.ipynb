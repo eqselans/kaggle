{
 "cells": [
  {
   "cell_type": "code",
   "execution_count": 1,
   "id": "f8b7f6ad",
   "metadata": {
    "_cell_guid": "b1076dfc-b9ad-4769-8c92-a6c4dae69d19",
    "_uuid": "8f2839f25d086af736a60e9eeb907d3b93b6e0e5",
    "execution": {
     "iopub.execute_input": "2024-09-22T21:05:47.668856Z",
     "iopub.status.busy": "2024-09-22T21:05:47.668303Z",
     "iopub.status.idle": "2024-09-22T21:05:48.157406Z",
     "shell.execute_reply": "2024-09-22T21:05:48.155847Z"
    },
    "papermill": {
     "duration": 0.497602,
     "end_time": "2024-09-22T21:05:48.160352",
     "exception": false,
     "start_time": "2024-09-22T21:05:47.662750",
     "status": "completed"
    },
    "tags": []
   },
   "outputs": [
    {
     "name": "stdout",
     "output_type": "stream",
     "text": [
      "/kaggle/input/laptop-prices/laptop_prices.csv\n"
     ]
    }
   ],
   "source": [
    "# This Python 3 environment comes with many helpful analytics libraries installed\n",
    "# It is defined by the kaggle/python Docker image: https://github.com/kaggle/docker-python\n",
    "# For example, here's several helpful packages to load\n",
    "\n",
    "import numpy as np # linear algebra\n",
    "import pandas as pd # data processing, CSV file I/O (e.g. pd.read_csv)\n",
    "\n",
    "# Input data files are available in the read-only \"../input/\" directory\n",
    "# For example, running this (by clicking run or pressing Shift+Enter) will list all files under the input directory\n",
    "\n",
    "import os\n",
    "for dirname, _, filenames in os.walk('/kaggle/input'):\n",
    "    for filename in filenames:\n",
    "        print(os.path.join(dirname, filename))\n",
    "\n",
    "# You can write up to 20GB to the current directory (/kaggle/working/) that gets preserved as output when you create a version using \"Save & Run All\" \n",
    "# You can also write temporary files to /kaggle/temp/, but they won't be saved outside of the current session"
   ]
  },
  {
   "cell_type": "code",
   "execution_count": 2,
   "id": "e85be1d1",
   "metadata": {
    "execution": {
     "iopub.execute_input": "2024-09-22T21:05:48.168646Z",
     "iopub.status.busy": "2024-09-22T21:05:48.167638Z",
     "iopub.status.idle": "2024-09-22T21:05:48.207834Z",
     "shell.execute_reply": "2024-09-22T21:05:48.206672Z"
    },
    "papermill": {
     "duration": 0.047296,
     "end_time": "2024-09-22T21:05:48.210776",
     "exception": false,
     "start_time": "2024-09-22T21:05:48.163480",
     "status": "completed"
    },
    "tags": []
   },
   "outputs": [],
   "source": [
    "train = pd.read_csv(\"/kaggle/input/laptop-prices/laptop_prices.csv\")"
   ]
  },
  {
   "cell_type": "code",
   "execution_count": 3,
   "id": "bdc54dfd",
   "metadata": {
    "execution": {
     "iopub.execute_input": "2024-09-22T21:05:48.218289Z",
     "iopub.status.busy": "2024-09-22T21:05:48.217840Z",
     "iopub.status.idle": "2024-09-22T21:05:48.223568Z",
     "shell.execute_reply": "2024-09-22T21:05:48.222429Z"
    },
    "papermill": {
     "duration": 0.012301,
     "end_time": "2024-09-22T21:05:48.226027",
     "exception": false,
     "start_time": "2024-09-22T21:05:48.213726",
     "status": "completed"
    },
    "tags": []
   },
   "outputs": [],
   "source": [
    "train_df = pd.DataFrame(train)"
   ]
  },
  {
   "cell_type": "code",
   "execution_count": null,
   "id": "112b7f05",
   "metadata": {
    "papermill": {
     "duration": 0.002485,
     "end_time": "2024-09-22T21:05:48.231383",
     "exception": false,
     "start_time": "2024-09-22T21:05:48.228898",
     "status": "completed"
    },
    "tags": []
   },
   "outputs": [],
   "source": []
  }
 ],
 "metadata": {
  "kaggle": {
   "accelerator": "none",
   "dataSources": [
    {
     "datasetId": 5669158,
     "sourceId": 9352248,
     "sourceType": "datasetVersion"
    }
   ],
   "dockerImageVersionId": 30761,
   "isGpuEnabled": false,
   "isInternetEnabled": true,
   "language": "python",
   "sourceType": "notebook"
  },
  "kernelspec": {
   "display_name": "Python 3",
   "language": "python",
   "name": "python3"
  },
  "language_info": {
   "codemirror_mode": {
    "name": "ipython",
    "version": 3
   },
   "file_extension": ".py",
   "mimetype": "text/x-python",
   "name": "python",
   "nbconvert_exporter": "python",
   "pygments_lexer": "ipython3",
   "version": "3.10.14"
  },
  "papermill": {
   "default_parameters": {},
   "duration": 4.183303,
   "end_time": "2024-09-22T21:05:48.755420",
   "environment_variables": {},
   "exception": null,
   "input_path": "__notebook__.ipynb",
   "output_path": "__notebook__.ipynb",
   "parameters": {},
   "start_time": "2024-09-22T21:05:44.572117",
   "version": "2.6.0"
  }
 },
 "nbformat": 4,
 "nbformat_minor": 5
}
